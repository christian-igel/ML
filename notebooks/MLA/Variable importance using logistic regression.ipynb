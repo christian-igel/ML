{
 "cells": [
  {
   "cell_type": "markdown",
   "metadata": {},
   "source": [
    "# Analyzing variable importance using logistic regression\n",
    "### Christian Igel, 2021-2024\n",
    "\n",
    "This notebook demonstrates how to analyze variable importance using logistic regression. It reimplements the example in R from [https://stats.idre.ucla.edu/r/dae/logit-regression](https://stats.idre.ucla.edu/r/dae/logit-regression) in Python. It is reassuring to reproduce the R results. \n",
    "\n",
    "The notebook demonstrates how to do the analysis of the variable importance using the logistic regression [statmodels](https://www.statsmodels.org/). Note that we do not use scikit-learn here.\n",
    "First, we will do the data preprocessing using [pandas](https://pandas.pydata.org/).\n",
    "Second, the notebook will show an alternative version that uses [patsy](https://patsy.readthedocs.io).\n",
    "Accordingly, you may need to install [pandas](https://pandas.pydata.org/), [statmodels](https://www.statsmodels.org/), and [patsy](https://patsy.readthedocs.io).\n",
    "\n",
    "Any suggestions for improvements of this notebook are more than welcome."
   ]
  },
  {
   "cell_type": "code",
   "execution_count": 1,
   "metadata": {},
   "outputs": [],
   "source": [
    "import pandas as pd\n",
    "import statsmodels.api as sm"
   ]
  },
  {
   "cell_type": "markdown",
   "metadata": {},
   "source": [
    "The task is to predict admission into graduate school based on GRE (Graduate Record Exam scores), GPA (grade point average) and prestige of the undergraduate institution. Let's load the data:"
   ]
  },
  {
   "cell_type": "code",
   "execution_count": 2,
   "metadata": {},
   "outputs": [],
   "source": [
    "df = pd.read_csv(\"https://stats.idre.ucla.edu/stat/data/binary.csv\")"
   ]
  },
  {
   "cell_type": "markdown",
   "metadata": {},
   "source": [
    "Let's inspect the data:"
   ]
  },
  {
   "cell_type": "code",
   "execution_count": 3,
   "metadata": {},
   "outputs": [
    {
     "data": {
      "text/html": [
       "<div>\n",
       "<style scoped>\n",
       "    .dataframe tbody tr th:only-of-type {\n",
       "        vertical-align: middle;\n",
       "    }\n",
       "\n",
       "    .dataframe tbody tr th {\n",
       "        vertical-align: top;\n",
       "    }\n",
       "\n",
       "    .dataframe thead th {\n",
       "        text-align: right;\n",
       "    }\n",
       "</style>\n",
       "<table border=\"1\" class=\"dataframe\">\n",
       "  <thead>\n",
       "    <tr style=\"text-align: right;\">\n",
       "      <th></th>\n",
       "      <th>admit</th>\n",
       "      <th>gre</th>\n",
       "      <th>gpa</th>\n",
       "      <th>rank</th>\n",
       "    </tr>\n",
       "  </thead>\n",
       "  <tbody>\n",
       "    <tr>\n",
       "      <th>0</th>\n",
       "      <td>0</td>\n",
       "      <td>380</td>\n",
       "      <td>3.61</td>\n",
       "      <td>3</td>\n",
       "    </tr>\n",
       "    <tr>\n",
       "      <th>1</th>\n",
       "      <td>1</td>\n",
       "      <td>660</td>\n",
       "      <td>3.67</td>\n",
       "      <td>3</td>\n",
       "    </tr>\n",
       "    <tr>\n",
       "      <th>2</th>\n",
       "      <td>1</td>\n",
       "      <td>800</td>\n",
       "      <td>4.00</td>\n",
       "      <td>1</td>\n",
       "    </tr>\n",
       "    <tr>\n",
       "      <th>3</th>\n",
       "      <td>1</td>\n",
       "      <td>640</td>\n",
       "      <td>3.19</td>\n",
       "      <td>4</td>\n",
       "    </tr>\n",
       "    <tr>\n",
       "      <th>4</th>\n",
       "      <td>0</td>\n",
       "      <td>520</td>\n",
       "      <td>2.93</td>\n",
       "      <td>4</td>\n",
       "    </tr>\n",
       "  </tbody>\n",
       "</table>\n",
       "</div>"
      ],
      "text/plain": [
       "   admit  gre   gpa  rank\n",
       "0      0  380  3.61     3\n",
       "1      1  660  3.67     3\n",
       "2      1  800  4.00     1\n",
       "3      1  640  3.19     4\n",
       "4      0  520  2.93     4"
      ]
     },
     "execution_count": 3,
     "metadata": {},
     "output_type": "execute_result"
    }
   ],
   "source": [
    "df.head(5)"
   ]
  },
  {
   "cell_type": "code",
   "execution_count": 4,
   "metadata": {
    "scrolled": true
   },
   "outputs": [
    {
     "data": {
      "text/html": [
       "<div>\n",
       "<style scoped>\n",
       "    .dataframe tbody tr th:only-of-type {\n",
       "        vertical-align: middle;\n",
       "    }\n",
       "\n",
       "    .dataframe tbody tr th {\n",
       "        vertical-align: top;\n",
       "    }\n",
       "\n",
       "    .dataframe thead th {\n",
       "        text-align: right;\n",
       "    }\n",
       "</style>\n",
       "<table border=\"1\" class=\"dataframe\">\n",
       "  <thead>\n",
       "    <tr style=\"text-align: right;\">\n",
       "      <th></th>\n",
       "      <th>admit</th>\n",
       "      <th>gre</th>\n",
       "      <th>gpa</th>\n",
       "      <th>rank</th>\n",
       "    </tr>\n",
       "  </thead>\n",
       "  <tbody>\n",
       "    <tr>\n",
       "      <th>count</th>\n",
       "      <td>400.000000</td>\n",
       "      <td>400.000000</td>\n",
       "      <td>400.000000</td>\n",
       "      <td>400.00000</td>\n",
       "    </tr>\n",
       "    <tr>\n",
       "      <th>mean</th>\n",
       "      <td>0.317500</td>\n",
       "      <td>587.700000</td>\n",
       "      <td>3.389900</td>\n",
       "      <td>2.48500</td>\n",
       "    </tr>\n",
       "    <tr>\n",
       "      <th>std</th>\n",
       "      <td>0.466087</td>\n",
       "      <td>115.516536</td>\n",
       "      <td>0.380567</td>\n",
       "      <td>0.94446</td>\n",
       "    </tr>\n",
       "    <tr>\n",
       "      <th>min</th>\n",
       "      <td>0.000000</td>\n",
       "      <td>220.000000</td>\n",
       "      <td>2.260000</td>\n",
       "      <td>1.00000</td>\n",
       "    </tr>\n",
       "    <tr>\n",
       "      <th>25%</th>\n",
       "      <td>0.000000</td>\n",
       "      <td>520.000000</td>\n",
       "      <td>3.130000</td>\n",
       "      <td>2.00000</td>\n",
       "    </tr>\n",
       "    <tr>\n",
       "      <th>50%</th>\n",
       "      <td>0.000000</td>\n",
       "      <td>580.000000</td>\n",
       "      <td>3.395000</td>\n",
       "      <td>2.00000</td>\n",
       "    </tr>\n",
       "    <tr>\n",
       "      <th>75%</th>\n",
       "      <td>1.000000</td>\n",
       "      <td>660.000000</td>\n",
       "      <td>3.670000</td>\n",
       "      <td>3.00000</td>\n",
       "    </tr>\n",
       "    <tr>\n",
       "      <th>max</th>\n",
       "      <td>1.000000</td>\n",
       "      <td>800.000000</td>\n",
       "      <td>4.000000</td>\n",
       "      <td>4.00000</td>\n",
       "    </tr>\n",
       "  </tbody>\n",
       "</table>\n",
       "</div>"
      ],
      "text/plain": [
       "            admit         gre         gpa       rank\n",
       "count  400.000000  400.000000  400.000000  400.00000\n",
       "mean     0.317500  587.700000    3.389900    2.48500\n",
       "std      0.466087  115.516536    0.380567    0.94446\n",
       "min      0.000000  220.000000    2.260000    1.00000\n",
       "25%      0.000000  520.000000    3.130000    2.00000\n",
       "50%      0.000000  580.000000    3.395000    2.00000\n",
       "75%      1.000000  660.000000    3.670000    3.00000\n",
       "max      1.000000  800.000000    4.000000    4.00000"
      ]
     },
     "execution_count": 4,
     "metadata": {},
     "output_type": "execute_result"
    }
   ],
   "source": [
    "df.describe()"
   ]
  },
  {
   "cell_type": "markdown",
   "metadata": {},
   "source": [
    "### First version\n",
    "In the first version, we do the main data preprocessing steps ourselves."
   ]
  },
  {
   "cell_type": "markdown",
   "metadata": {},
   "source": [
    "The goal is to predict/explain the binary variable `admit` given the other variables. Thus, we split data into input (predictor variables) and target (response/dependent variable):"
   ]
  },
  {
   "cell_type": "code",
   "execution_count": 5,
   "metadata": {},
   "outputs": [],
   "source": [
    "X = df.iloc[:,1:4]\n",
    "y = df.iloc[:,0]"
   ]
  },
  {
   "cell_type": "markdown",
   "metadata": {},
   "source": [
    "We treat the `rank`, which indicates the prestige of the undergraduate institution, as a categorical variable:"
   ]
  },
  {
   "cell_type": "code",
   "execution_count": 6,
   "metadata": {},
   "outputs": [],
   "source": [
    "X[\"rank\"] = X[\"rank\"].astype('category')"
   ]
  },
  {
   "cell_type": "markdown",
   "metadata": {},
   "source": [
    "Let's look at the data again:"
   ]
  },
  {
   "cell_type": "code",
   "execution_count": 7,
   "metadata": {},
   "outputs": [
    {
     "data": {
      "text/html": [
       "<div>\n",
       "<style scoped>\n",
       "    .dataframe tbody tr th:only-of-type {\n",
       "        vertical-align: middle;\n",
       "    }\n",
       "\n",
       "    .dataframe tbody tr th {\n",
       "        vertical-align: top;\n",
       "    }\n",
       "\n",
       "    .dataframe thead th {\n",
       "        text-align: right;\n",
       "    }\n",
       "</style>\n",
       "<table border=\"1\" class=\"dataframe\">\n",
       "  <thead>\n",
       "    <tr style=\"text-align: right;\">\n",
       "      <th></th>\n",
       "      <th>gre</th>\n",
       "      <th>gpa</th>\n",
       "      <th>rank</th>\n",
       "    </tr>\n",
       "  </thead>\n",
       "  <tbody>\n",
       "    <tr>\n",
       "      <th>0</th>\n",
       "      <td>380</td>\n",
       "      <td>3.61</td>\n",
       "      <td>3</td>\n",
       "    </tr>\n",
       "    <tr>\n",
       "      <th>1</th>\n",
       "      <td>660</td>\n",
       "      <td>3.67</td>\n",
       "      <td>3</td>\n",
       "    </tr>\n",
       "    <tr>\n",
       "      <th>2</th>\n",
       "      <td>800</td>\n",
       "      <td>4.00</td>\n",
       "      <td>1</td>\n",
       "    </tr>\n",
       "    <tr>\n",
       "      <th>3</th>\n",
       "      <td>640</td>\n",
       "      <td>3.19</td>\n",
       "      <td>4</td>\n",
       "    </tr>\n",
       "    <tr>\n",
       "      <th>4</th>\n",
       "      <td>520</td>\n",
       "      <td>2.93</td>\n",
       "      <td>4</td>\n",
       "    </tr>\n",
       "    <tr>\n",
       "      <th>...</th>\n",
       "      <td>...</td>\n",
       "      <td>...</td>\n",
       "      <td>...</td>\n",
       "    </tr>\n",
       "    <tr>\n",
       "      <th>395</th>\n",
       "      <td>620</td>\n",
       "      <td>4.00</td>\n",
       "      <td>2</td>\n",
       "    </tr>\n",
       "    <tr>\n",
       "      <th>396</th>\n",
       "      <td>560</td>\n",
       "      <td>3.04</td>\n",
       "      <td>3</td>\n",
       "    </tr>\n",
       "    <tr>\n",
       "      <th>397</th>\n",
       "      <td>460</td>\n",
       "      <td>2.63</td>\n",
       "      <td>2</td>\n",
       "    </tr>\n",
       "    <tr>\n",
       "      <th>398</th>\n",
       "      <td>700</td>\n",
       "      <td>3.65</td>\n",
       "      <td>2</td>\n",
       "    </tr>\n",
       "    <tr>\n",
       "      <th>399</th>\n",
       "      <td>600</td>\n",
       "      <td>3.89</td>\n",
       "      <td>3</td>\n",
       "    </tr>\n",
       "  </tbody>\n",
       "</table>\n",
       "<p>400 rows × 3 columns</p>\n",
       "</div>"
      ],
      "text/plain": [
       "     gre   gpa rank\n",
       "0    380  3.61    3\n",
       "1    660  3.67    3\n",
       "2    800  4.00    1\n",
       "3    640  3.19    4\n",
       "4    520  2.93    4\n",
       "..   ...   ...  ...\n",
       "395  620  4.00    2\n",
       "396  560  3.04    3\n",
       "397  460  2.63    2\n",
       "398  700  3.65    2\n",
       "399  600  3.89    3\n",
       "\n",
       "[400 rows x 3 columns]"
      ]
     },
     "metadata": {},
     "output_type": "display_data"
    },
    {
     "data": {
      "text/plain": [
       "0      0\n",
       "1      1\n",
       "2      1\n",
       "3      1\n",
       "4      0\n",
       "      ..\n",
       "395    0\n",
       "396    0\n",
       "397    0\n",
       "398    0\n",
       "399    0\n",
       "Name: admit, Length: 400, dtype: int64"
      ]
     },
     "metadata": {},
     "output_type": "display_data"
    }
   ],
   "source": [
    "display(X)\n",
    "display(y)"
   ]
  },
  {
   "cell_type": "markdown",
   "metadata": {},
   "source": [
    "Now we transform the categorical variable. Note that in contrast to a one-hot-encoding, one column is dropped to avoid the linear dependency. This means, we use three columns to encode the four ranks. **rank_1**  is encoded by all three columns being zero."
   ]
  },
  {
   "cell_type": "code",
   "execution_count": 8,
   "metadata": {},
   "outputs": [
    {
     "data": {
      "text/html": [
       "<div>\n",
       "<style scoped>\n",
       "    .dataframe tbody tr th:only-of-type {\n",
       "        vertical-align: middle;\n",
       "    }\n",
       "\n",
       "    .dataframe tbody tr th {\n",
       "        vertical-align: top;\n",
       "    }\n",
       "\n",
       "    .dataframe thead th {\n",
       "        text-align: right;\n",
       "    }\n",
       "</style>\n",
       "<table border=\"1\" class=\"dataframe\">\n",
       "  <thead>\n",
       "    <tr style=\"text-align: right;\">\n",
       "      <th></th>\n",
       "      <th>gre</th>\n",
       "      <th>gpa</th>\n",
       "      <th>rank_2</th>\n",
       "      <th>rank_3</th>\n",
       "      <th>rank_4</th>\n",
       "    </tr>\n",
       "  </thead>\n",
       "  <tbody>\n",
       "    <tr>\n",
       "      <th>0</th>\n",
       "      <td>380</td>\n",
       "      <td>3.61</td>\n",
       "      <td>False</td>\n",
       "      <td>True</td>\n",
       "      <td>False</td>\n",
       "    </tr>\n",
       "    <tr>\n",
       "      <th>1</th>\n",
       "      <td>660</td>\n",
       "      <td>3.67</td>\n",
       "      <td>False</td>\n",
       "      <td>True</td>\n",
       "      <td>False</td>\n",
       "    </tr>\n",
       "    <tr>\n",
       "      <th>2</th>\n",
       "      <td>800</td>\n",
       "      <td>4.00</td>\n",
       "      <td>False</td>\n",
       "      <td>False</td>\n",
       "      <td>False</td>\n",
       "    </tr>\n",
       "    <tr>\n",
       "      <th>3</th>\n",
       "      <td>640</td>\n",
       "      <td>3.19</td>\n",
       "      <td>False</td>\n",
       "      <td>False</td>\n",
       "      <td>True</td>\n",
       "    </tr>\n",
       "    <tr>\n",
       "      <th>4</th>\n",
       "      <td>520</td>\n",
       "      <td>2.93</td>\n",
       "      <td>False</td>\n",
       "      <td>False</td>\n",
       "      <td>True</td>\n",
       "    </tr>\n",
       "    <tr>\n",
       "      <th>...</th>\n",
       "      <td>...</td>\n",
       "      <td>...</td>\n",
       "      <td>...</td>\n",
       "      <td>...</td>\n",
       "      <td>...</td>\n",
       "    </tr>\n",
       "    <tr>\n",
       "      <th>395</th>\n",
       "      <td>620</td>\n",
       "      <td>4.00</td>\n",
       "      <td>True</td>\n",
       "      <td>False</td>\n",
       "      <td>False</td>\n",
       "    </tr>\n",
       "    <tr>\n",
       "      <th>396</th>\n",
       "      <td>560</td>\n",
       "      <td>3.04</td>\n",
       "      <td>False</td>\n",
       "      <td>True</td>\n",
       "      <td>False</td>\n",
       "    </tr>\n",
       "    <tr>\n",
       "      <th>397</th>\n",
       "      <td>460</td>\n",
       "      <td>2.63</td>\n",
       "      <td>True</td>\n",
       "      <td>False</td>\n",
       "      <td>False</td>\n",
       "    </tr>\n",
       "    <tr>\n",
       "      <th>398</th>\n",
       "      <td>700</td>\n",
       "      <td>3.65</td>\n",
       "      <td>True</td>\n",
       "      <td>False</td>\n",
       "      <td>False</td>\n",
       "    </tr>\n",
       "    <tr>\n",
       "      <th>399</th>\n",
       "      <td>600</td>\n",
       "      <td>3.89</td>\n",
       "      <td>False</td>\n",
       "      <td>True</td>\n",
       "      <td>False</td>\n",
       "    </tr>\n",
       "  </tbody>\n",
       "</table>\n",
       "<p>400 rows × 5 columns</p>\n",
       "</div>"
      ],
      "text/plain": [
       "     gre   gpa  rank_2  rank_3  rank_4\n",
       "0    380  3.61   False    True   False\n",
       "1    660  3.67   False    True   False\n",
       "2    800  4.00   False   False   False\n",
       "3    640  3.19   False   False    True\n",
       "4    520  2.93   False   False    True\n",
       "..   ...   ...     ...     ...     ...\n",
       "395  620  4.00    True   False   False\n",
       "396  560  3.04   False    True   False\n",
       "397  460  2.63    True   False   False\n",
       "398  700  3.65    True   False   False\n",
       "399  600  3.89   False    True   False\n",
       "\n",
       "[400 rows x 5 columns]"
      ]
     },
     "execution_count": 8,
     "metadata": {},
     "output_type": "execute_result"
    }
   ],
   "source": [
    "X_transformed = pd.get_dummies(X, prefix=['rank'], drop_first=True)\n",
    "X_transformed"
   ]
  },
  {
   "cell_type": "markdown",
   "metadata": {},
   "source": [
    "The logistic regression model we are using does not have a built in intercept (bias/offset) parameter. Thus, we augment our input data with a constant dummy variable. "
   ]
  },
  {
   "cell_type": "code",
   "execution_count": 9,
   "metadata": {
    "scrolled": true
   },
   "outputs": [
    {
     "data": {
      "text/html": [
       "<div>\n",
       "<style scoped>\n",
       "    .dataframe tbody tr th:only-of-type {\n",
       "        vertical-align: middle;\n",
       "    }\n",
       "\n",
       "    .dataframe tbody tr th {\n",
       "        vertical-align: top;\n",
       "    }\n",
       "\n",
       "    .dataframe thead th {\n",
       "        text-align: right;\n",
       "    }\n",
       "</style>\n",
       "<table border=\"1\" class=\"dataframe\">\n",
       "  <thead>\n",
       "    <tr style=\"text-align: right;\">\n",
       "      <th></th>\n",
       "      <th>const</th>\n",
       "      <th>gre</th>\n",
       "      <th>gpa</th>\n",
       "      <th>rank_2</th>\n",
       "      <th>rank_3</th>\n",
       "      <th>rank_4</th>\n",
       "    </tr>\n",
       "  </thead>\n",
       "  <tbody>\n",
       "    <tr>\n",
       "      <th>0</th>\n",
       "      <td>1.0</td>\n",
       "      <td>380</td>\n",
       "      <td>3.61</td>\n",
       "      <td>False</td>\n",
       "      <td>True</td>\n",
       "      <td>False</td>\n",
       "    </tr>\n",
       "    <tr>\n",
       "      <th>1</th>\n",
       "      <td>1.0</td>\n",
       "      <td>660</td>\n",
       "      <td>3.67</td>\n",
       "      <td>False</td>\n",
       "      <td>True</td>\n",
       "      <td>False</td>\n",
       "    </tr>\n",
       "    <tr>\n",
       "      <th>2</th>\n",
       "      <td>1.0</td>\n",
       "      <td>800</td>\n",
       "      <td>4.00</td>\n",
       "      <td>False</td>\n",
       "      <td>False</td>\n",
       "      <td>False</td>\n",
       "    </tr>\n",
       "    <tr>\n",
       "      <th>3</th>\n",
       "      <td>1.0</td>\n",
       "      <td>640</td>\n",
       "      <td>3.19</td>\n",
       "      <td>False</td>\n",
       "      <td>False</td>\n",
       "      <td>True</td>\n",
       "    </tr>\n",
       "    <tr>\n",
       "      <th>4</th>\n",
       "      <td>1.0</td>\n",
       "      <td>520</td>\n",
       "      <td>2.93</td>\n",
       "      <td>False</td>\n",
       "      <td>False</td>\n",
       "      <td>True</td>\n",
       "    </tr>\n",
       "    <tr>\n",
       "      <th>...</th>\n",
       "      <td>...</td>\n",
       "      <td>...</td>\n",
       "      <td>...</td>\n",
       "      <td>...</td>\n",
       "      <td>...</td>\n",
       "      <td>...</td>\n",
       "    </tr>\n",
       "    <tr>\n",
       "      <th>395</th>\n",
       "      <td>1.0</td>\n",
       "      <td>620</td>\n",
       "      <td>4.00</td>\n",
       "      <td>True</td>\n",
       "      <td>False</td>\n",
       "      <td>False</td>\n",
       "    </tr>\n",
       "    <tr>\n",
       "      <th>396</th>\n",
       "      <td>1.0</td>\n",
       "      <td>560</td>\n",
       "      <td>3.04</td>\n",
       "      <td>False</td>\n",
       "      <td>True</td>\n",
       "      <td>False</td>\n",
       "    </tr>\n",
       "    <tr>\n",
       "      <th>397</th>\n",
       "      <td>1.0</td>\n",
       "      <td>460</td>\n",
       "      <td>2.63</td>\n",
       "      <td>True</td>\n",
       "      <td>False</td>\n",
       "      <td>False</td>\n",
       "    </tr>\n",
       "    <tr>\n",
       "      <th>398</th>\n",
       "      <td>1.0</td>\n",
       "      <td>700</td>\n",
       "      <td>3.65</td>\n",
       "      <td>True</td>\n",
       "      <td>False</td>\n",
       "      <td>False</td>\n",
       "    </tr>\n",
       "    <tr>\n",
       "      <th>399</th>\n",
       "      <td>1.0</td>\n",
       "      <td>600</td>\n",
       "      <td>3.89</td>\n",
       "      <td>False</td>\n",
       "      <td>True</td>\n",
       "      <td>False</td>\n",
       "    </tr>\n",
       "  </tbody>\n",
       "</table>\n",
       "<p>400 rows × 6 columns</p>\n",
       "</div>"
      ],
      "text/plain": [
       "     const  gre   gpa  rank_2  rank_3  rank_4\n",
       "0      1.0  380  3.61   False    True   False\n",
       "1      1.0  660  3.67   False    True   False\n",
       "2      1.0  800  4.00   False   False   False\n",
       "3      1.0  640  3.19   False   False    True\n",
       "4      1.0  520  2.93   False   False    True\n",
       "..     ...  ...   ...     ...     ...     ...\n",
       "395    1.0  620  4.00    True   False   False\n",
       "396    1.0  560  3.04   False    True   False\n",
       "397    1.0  460  2.63    True   False   False\n",
       "398    1.0  700  3.65    True   False   False\n",
       "399    1.0  600  3.89   False    True   False\n",
       "\n",
       "[400 rows x 6 columns]"
      ]
     },
     "execution_count": 9,
     "metadata": {},
     "output_type": "execute_result"
    }
   ],
   "source": [
    "X_transformed = sm.add_constant(X_transformed)\n",
    "X_transformed"
   ]
  },
  {
   "cell_type": "markdown",
   "metadata": {},
   "source": [
    "Now we can compute and inspect the logistic regression model: "
   ]
  },
  {
   "cell_type": "code",
   "execution_count": 10,
   "metadata": {},
   "outputs": [
    {
     "name": "stdout",
     "output_type": "stream",
     "text": [
      "Optimization terminated successfully.\n",
      "         Current function value: 0.573147\n",
      "         Iterations 6\n",
      "                         Results: Logit\n",
      "=================================================================\n",
      "Model:              Logit            Method:           MLE       \n",
      "Dependent Variable: admit            Pseudo R-squared: 0.083     \n",
      "Date:               2024-07-07 18:03 AIC:              470.5175  \n",
      "No. Observations:   400              BIC:              494.4663  \n",
      "Df Model:           5                Log-Likelihood:   -229.26   \n",
      "Df Residuals:       394              LL-Null:          -249.99   \n",
      "Converged:          1.0000           LLR p-value:      7.5782e-08\n",
      "No. Iterations:     6.0000           Scale:            1.0000    \n",
      "-------------------------------------------------------------------\n",
      "           Coef.    Std.Err.      z      P>|z|     [0.025    0.975]\n",
      "-------------------------------------------------------------------\n",
      "const     -3.9900     1.1400   -3.5001   0.0005   -6.2242   -1.7557\n",
      "gre        0.0023     0.0011    2.0699   0.0385    0.0001    0.0044\n",
      "gpa        0.8040     0.3318    2.4231   0.0154    0.1537    1.4544\n",
      "rank_2    -0.6754     0.3165   -2.1342   0.0328   -1.2958   -0.0551\n",
      "rank_3    -1.3402     0.3453   -3.8812   0.0001   -2.0170   -0.6634\n",
      "rank_4    -1.5515     0.4178   -3.7131   0.0002   -2.3704   -0.7325\n",
      "=================================================================\n",
      "\n"
     ]
    }
   ],
   "source": [
    "logit_model=sm.Logit(y, X_transformed.astype(float))\n",
    "result=logit_model.fit()\n",
    "print(result.summary2())"
   ]
  },
  {
   "cell_type": "markdown",
   "metadata": {},
   "source": [
    "### Second version"
   ]
  },
  {
   "cell_type": "markdown",
   "metadata": {},
   "source": [
    "In the second version, we use a library function for creating design matrices:"
   ]
  },
  {
   "cell_type": "code",
   "execution_count": 11,
   "metadata": {},
   "outputs": [],
   "source": [
    "from patsy import dmatrices"
   ]
  },
  {
   "cell_type": "markdown",
   "metadata": {},
   "source": [
    "We can use a formula syntax to specify the design matrix as in R. When a formula is used to specify the terms to include in the design matrix, a constant for the intercept term will be included by default. The function `C` handles the encoding of the categorical variable for us:"
   ]
  },
  {
   "cell_type": "code",
   "execution_count": 12,
   "metadata": {},
   "outputs": [
    {
     "data": {
      "text/html": [
       "<div>\n",
       "<style scoped>\n",
       "    .dataframe tbody tr th:only-of-type {\n",
       "        vertical-align: middle;\n",
       "    }\n",
       "\n",
       "    .dataframe tbody tr th {\n",
       "        vertical-align: top;\n",
       "    }\n",
       "\n",
       "    .dataframe thead th {\n",
       "        text-align: right;\n",
       "    }\n",
       "</style>\n",
       "<table border=\"1\" class=\"dataframe\">\n",
       "  <thead>\n",
       "    <tr style=\"text-align: right;\">\n",
       "      <th></th>\n",
       "      <th>Intercept</th>\n",
       "      <th>C(rank)[T.2]</th>\n",
       "      <th>C(rank)[T.3]</th>\n",
       "      <th>C(rank)[T.4]</th>\n",
       "      <th>gre</th>\n",
       "      <th>gpa</th>\n",
       "    </tr>\n",
       "  </thead>\n",
       "  <tbody>\n",
       "    <tr>\n",
       "      <th>0</th>\n",
       "      <td>1.0</td>\n",
       "      <td>0.0</td>\n",
       "      <td>1.0</td>\n",
       "      <td>0.0</td>\n",
       "      <td>380.0</td>\n",
       "      <td>3.61</td>\n",
       "    </tr>\n",
       "    <tr>\n",
       "      <th>1</th>\n",
       "      <td>1.0</td>\n",
       "      <td>0.0</td>\n",
       "      <td>1.0</td>\n",
       "      <td>0.0</td>\n",
       "      <td>660.0</td>\n",
       "      <td>3.67</td>\n",
       "    </tr>\n",
       "    <tr>\n",
       "      <th>2</th>\n",
       "      <td>1.0</td>\n",
       "      <td>0.0</td>\n",
       "      <td>0.0</td>\n",
       "      <td>0.0</td>\n",
       "      <td>800.0</td>\n",
       "      <td>4.00</td>\n",
       "    </tr>\n",
       "    <tr>\n",
       "      <th>3</th>\n",
       "      <td>1.0</td>\n",
       "      <td>0.0</td>\n",
       "      <td>0.0</td>\n",
       "      <td>1.0</td>\n",
       "      <td>640.0</td>\n",
       "      <td>3.19</td>\n",
       "    </tr>\n",
       "    <tr>\n",
       "      <th>4</th>\n",
       "      <td>1.0</td>\n",
       "      <td>0.0</td>\n",
       "      <td>0.0</td>\n",
       "      <td>1.0</td>\n",
       "      <td>520.0</td>\n",
       "      <td>2.93</td>\n",
       "    </tr>\n",
       "  </tbody>\n",
       "</table>\n",
       "</div>"
      ],
      "text/plain": [
       "   Intercept  C(rank)[T.2]  C(rank)[T.3]  C(rank)[T.4]    gre   gpa\n",
       "0        1.0           0.0           1.0           0.0  380.0  3.61\n",
       "1        1.0           0.0           1.0           0.0  660.0  3.67\n",
       "2        1.0           0.0           0.0           0.0  800.0  4.00\n",
       "3        1.0           0.0           0.0           1.0  640.0  3.19\n",
       "4        1.0           0.0           0.0           1.0  520.0  2.93"
      ]
     },
     "execution_count": 12,
     "metadata": {},
     "output_type": "execute_result"
    }
   ],
   "source": [
    "y, X = dmatrices('admit ~ gre + gpa + C(rank)', df, return_type = 'dataframe')\n",
    "X.head()"
   ]
  },
  {
   "cell_type": "code",
   "execution_count": 13,
   "metadata": {},
   "outputs": [
    {
     "name": "stdout",
     "output_type": "stream",
     "text": [
      "Optimization terminated successfully.\n",
      "         Current function value: 0.573147\n",
      "         Iterations 6\n",
      "                         Results: Logit\n",
      "=================================================================\n",
      "Model:              Logit            Method:           MLE       \n",
      "Dependent Variable: admit            Pseudo R-squared: 0.083     \n",
      "Date:               2024-07-07 18:03 AIC:              470.5175  \n",
      "No. Observations:   400              BIC:              494.4663  \n",
      "Df Model:           5                Log-Likelihood:   -229.26   \n",
      "Df Residuals:       394              LL-Null:          -249.99   \n",
      "Converged:          1.0000           LLR p-value:      7.5782e-08\n",
      "No. Iterations:     6.0000           Scale:            1.0000    \n",
      "------------------------------------------------------------------\n",
      "               Coef.   Std.Err.     z     P>|z|    [0.025   0.975]\n",
      "------------------------------------------------------------------\n",
      "Intercept     -3.9900    1.1400  -3.5001  0.0005  -6.2242  -1.7557\n",
      "C(rank)[T.2]  -0.6754    0.3165  -2.1342  0.0328  -1.2958  -0.0551\n",
      "C(rank)[T.3]  -1.3402    0.3453  -3.8812  0.0001  -2.0170  -0.6634\n",
      "C(rank)[T.4]  -1.5515    0.4178  -3.7131  0.0002  -2.3704  -0.7325\n",
      "gre            0.0023    0.0011   2.0699  0.0385   0.0001   0.0044\n",
      "gpa            0.8040    0.3318   2.4231  0.0154   0.1537   1.4544\n",
      "=================================================================\n",
      "\n"
     ]
    }
   ],
   "source": [
    "logit = sm.Logit(y, X)\n",
    "result = logit.fit()\n",
    "print(result.summary2())"
   ]
  },
  {
   "cell_type": "markdown",
   "metadata": {},
   "source": [
    "### Interpreting the resuls\n",
    "The results table  shows the coefficients, their standard errors, the z-statistic (sometimes called a Wald z-statistic, in this case the z-value is computed as the coefficient over its standard error, a concept we have not discussed in the lecture), the associated p-values (P), as well as the confidence intervals for the coefficient estimates. \n",
    "\n",
    "Assuming a 5% significance level, one can argue that all predictor variables are statistically significant, because their p-values are all smaller than 0.05. (The null hypothesis is that the coefficient is zero. If the p-value is smaller than our significance level, we reject the null hypothesis.) \n",
    "\n",
    "\"The logistic regression coefficients give the change in the log odds of the outcome for a one unit increase in the predictor variable. For every one unit change in `gre`, the log odds of admission (versus non-admission) increases by 0.002. For a one unit increase in `gpa`, the log odds of being admitted to graduate school increases by 0.804. The indicator variables for `rank` have a slightly different interpretation. For example, having attended an undergraduate institution with `rank` of 2, versus an institution with a `rank` of 1, changes the log odds of admission by -0.675\" [(quoted from here)](https://stats.idre.ucla.edu/r/dae/logit-regression/).\n",
    "\n",
    "The accuracy of the model on the training set, which is *not* an ubiased estimate of the generalizaition performance, can be computed as follows:"
   ]
  },
  {
   "cell_type": "code",
   "execution_count": 14,
   "metadata": {},
   "outputs": [
    {
     "name": "stdout",
     "output_type": "stream",
     "text": [
      "accuracy on training set: 0.71\n"
     ]
    }
   ],
   "source": [
    "from sklearn.metrics import accuracy_score\n",
    "y_pred = result.predict(X)  # Predict using the result object\n",
    "print('accuracy on training set:', \n",
    "      accuracy_score(y, [1 if m >= 0.5 else 0 for m in y_pred]))"
   ]
  },
  {
   "cell_type": "markdown",
   "metadata": {},
   "source": [
    "### Advanced considerations$^*$\n",
    "#### Standard errors (and Fisher information)\n",
    "We find the coefficients via maximum likelihood estimation (MLE).\n",
    "Assume that the data are indeed generated by a model that can represented by a logistic regression model with optimal parameters $\\mathbf{w}^*$.\n",
    "Let the log-likelihood function given data $S=\\{(\\textbf{x}_1,y_1), \\dots, (\\textbf{x}_N,y_N)\\}$ be denoted by $l_S(\\textbf{w})$.\n",
    "A main theoretical property of MLE is that the estimated parameters $\\hat{\\mathbf{w}}$ are approximately normally distributed around $\\mathbf{w}^*$ with \n",
    "covariance matrix equal to the inverse of the *Fisher information matrix* $\\mathcal{I}_{\\mathbf{w}^*}$:\n",
    "$$\n",
    "\\hat{\\mathbf{w}}\\sim\\mathcal{N}(\\mathbf{w}^*, \\mathcal{I}_{\\mathbf{w}^*}^{-1})\n",
    "$$\n",
    "For $\\mathcal{I}_{\\mathbf{w}^*}$ we plug in the *observed Fisher information matrix* $\\mathcal{J}_{\\hat{\\mathbf{w}}} = \\left.-\\nabla_{\\textbf{w}} \\nabla_{\\textbf{w}}^{\\text{T}} l_S(\\textbf{w})\\right|_{\\hat{\\textbf{w}}}$ with entries\n",
    "$$\n",
    "[\\mathcal{J}_{\\hat{\\mathbf{w}}}]_{ij}=\\left.-\\frac{\\partial^2}{\\partial w_i \\partial w_j} l_S(\\textbf{w})\\right|_{\\hat{\\textbf{w}}}.\n",
    "$$\n",
    "We already know  the gradient of the negative log-likelihood for logistic regression\n",
    "$\n",
    "  %\\frac{\\partial}{\\partial \\textbf{w}} \n",
    "  -\\nabla_{\\textbf{w}} l_S(\\textbf{w}) = - \\sum_{n=1}^N\\left[y_n -  \\theta(\\textbf{w}^\\text{T}\\textbf{x}_n)\\right]\\textbf{x}_n\n",
    "$, which leads to\n",
    "$$\n",
    "-\\nabla_{\\textbf{w}} \\nabla_{\\textbf{w}}^{\\text{T}} l_S(\\textbf{w}) = \\mathbf{X}^{\\text{T}}\\mathbf{V}\\mathbf{X},\n",
    "$$\n",
    "where \n",
    "$$\n",
    "\\mathbf{V}=\\operatorname{diag}(\\theta(\\textbf{w}^\\text{T}\\textbf{x}_1)(1-\\theta(\\textbf{w}^\\text{T}\\textbf{x}_1)), \\dots,    \\theta(\\textbf{w}^\\text{T}\\textbf{x}_N)(1-\\theta(\\textbf{w}^\\text{T}\\textbf{x}_N)) )\n",
    "= \\operatorname{diag}(\\theta(y_1\\textbf{w}^\\text{T}\\textbf{x}_1)(1-\\theta(y_1\\textbf{w}^\\text{T}\\textbf{x}_1)), \\dots,    \\theta(y_N\\textbf{w}^\\text{T}\\textbf{x}_N)(1-\\theta(y_N\\textbf{w}^\\text{T}\\textbf{x}_N)) ).\n",
    "$$\n",
    "The *standard error* (SE) of an estimate of a parameter is (an estimate of) the standard deviation of its sampling distribution.\n",
    "In our case, the SEs are  the square roots of the diagonal entries of the inverse  Fisher matrix, e.g., $\\text{SE}(\\hat{w}_i)=\\sqrt{[\\mathcal{J}_{\\hat{\\mathbf{w}}}^{-1}]_{ii}}$.\n",
    "\n",
    "Thus, we get the the SEs by hand like this:"
   ]
  },
  {
   "cell_type": "code",
   "execution_count": 21,
   "metadata": {},
   "outputs": [
    {
     "name": "stdout",
     "output_type": "stream",
     "text": [
      "standard errors:\n",
      " [1.14   0.3165 0.3453 0.4178 0.0011 0.3318]\n"
     ]
    }
   ],
   "source": [
    "import numpy as np\n",
    "np.set_printoptions(precision=4,suppress=True)\n",
    "# Compute observed Fisher information matrix\n",
    "V = np.diag(y_pred * (1. - y_pred))\n",
    "I = X.to_numpy().T @ V @ X.to_numpy()\n",
    "# Compute standard errors\n",
    "I_inv = np.linalg.inv(I)  # inverse Fisher matrix\n",
    "se = np.sqrt(np.diag(I_inv))\n",
    "print(\"standard errors:\\n\", se)"
   ]
  },
  {
   "cell_type": "markdown",
   "metadata": {},
   "source": [
    "#### Wald statistic and Z-score\n",
    "The Wald test compares the MLE estimate $\\hat{w_i}$ of a parameter \n",
    "with a hypothesized value ${w_0}$.\n",
    "The Z-score is computed as \n",
    "$$\n",
    "z=\\frac{\\hat{w}_i - w_0}{\\text{SE}(\\hat{w}_i)}\n",
    "$$\n",
    "and asymptotically follows a standard normal distribution.\n",
    "The larger $|z|$, the more likely is the true ${w}_i^*$ estimated by $\\hat{w}_i$ different from ${w}_0$.\n",
    "The definition of the Z-score is rather intuitive. The absolute value of the numerator increases with the distance between $\\hat{w}_i$ and  ${w}_0$. This distance is scaled by the denominator. If the SE (the standard deviation of our estimate) is low, we are very sure about the estimation, and a small distance between $\\hat{w}_i$ and  ${w}_0$ is already significant. If the SE is large, we are rather uncertain about our estimate $\\hat{w}_i$, and the distance between $\\hat{w}_i$ and  ${w}_0$ has to be larger to be significant.\n",
    "\n",
    "We consider $w_0=0$ and can compute the $z$ values by hand:"
   ]
  },
  {
   "cell_type": "code",
   "execution_count": 22,
   "metadata": {},
   "outputs": [
    {
     "name": "stdout",
     "output_type": "stream",
     "text": [
      " z :  [-3.5001 -2.1342 -3.8812 -3.7131  2.0699  2.4231]\n",
      "|z|:  [3.5001 2.1342 3.8812 3.7131 2.0699 2.4231]\n"
     ]
    }
   ],
   "source": [
    "w = result.params.to_numpy()  # get the coefficients of logistic regression w/o linear rescaling\n",
    "z = w/se\n",
    "print(\" z : \", z)\n",
    "print(\"|z|: \", abs(z))"
   ]
  },
  {
   "cell_type": "markdown",
   "metadata": {},
   "source": [
    "Now we can look up the  $z$ value for a given confidence level. For a confidence level of 95%, it is 1.96.\n",
    "Thus, we compare $|z|$ to 1.96\n",
    "\n",
    "For example, we cannot reject the null hypothesis that the intercept parameter is zero at a confidence level of 95%, because the corresponding $|z|$ value is smaller than 1.95 "
   ]
  },
  {
   "cell_type": "markdown",
   "metadata": {},
   "source": [
    "#### Confidence intervals for the parameters\n",
    "We get the confidence intervals for the coefficient estimates by solving for $w_0$ given the $z$ value in question:"
   ]
  },
  {
   "cell_type": "code",
   "execution_count": 23,
   "metadata": {},
   "outputs": [
    {
     "name": "stdout",
     "output_type": "stream",
     "text": [
      "CI:\n",
      " [[-6.2243 -1.7557]\n",
      " [-1.2958 -0.0551]\n",
      " [-2.017  -0.6634]\n",
      " [-2.3704 -0.7325]\n",
      " [ 0.0001  0.0044]\n",
      " [ 0.1537  1.4544]]\n"
     ]
    }
   ],
   "source": [
    "z95 = 1.96  # confidence level 95%\n",
    "print(\"CI:\\n\", np.stack( (w - z95 * se, w + z95 * se), axis=-1))"
   ]
  },
  {
   "cell_type": "markdown",
   "metadata": {},
   "source": [
    "### Effect of linear rescaling \n",
    "In the following, it is demonstrated that linear rescaling does not change the significance of the the predictor variables."
   ]
  },
  {
   "cell_type": "code",
   "execution_count": 24,
   "metadata": {},
   "outputs": [],
   "source": [
    "from sklearn.preprocessing import StandardScaler\n",
    "X_norm = X.copy()\n",
    "cols_to_norm = ['gre','gpa']\n",
    "X_norm[cols_to_norm] = StandardScaler().fit_transform(X_norm[cols_to_norm])"
   ]
  },
  {
   "cell_type": "code",
   "execution_count": 25,
   "metadata": {},
   "outputs": [
    {
     "data": {
      "text/html": [
       "<div>\n",
       "<style scoped>\n",
       "    .dataframe tbody tr th:only-of-type {\n",
       "        vertical-align: middle;\n",
       "    }\n",
       "\n",
       "    .dataframe tbody tr th {\n",
       "        vertical-align: top;\n",
       "    }\n",
       "\n",
       "    .dataframe thead th {\n",
       "        text-align: right;\n",
       "    }\n",
       "</style>\n",
       "<table border=\"1\" class=\"dataframe\">\n",
       "  <thead>\n",
       "    <tr style=\"text-align: right;\">\n",
       "      <th></th>\n",
       "      <th>Intercept</th>\n",
       "      <th>C(rank)[T.2]</th>\n",
       "      <th>C(rank)[T.3]</th>\n",
       "      <th>C(rank)[T.4]</th>\n",
       "      <th>gre</th>\n",
       "      <th>gpa</th>\n",
       "    </tr>\n",
       "  </thead>\n",
       "  <tbody>\n",
       "    <tr>\n",
       "      <th>0</th>\n",
       "      <td>1.0</td>\n",
       "      <td>0.0</td>\n",
       "      <td>1.0</td>\n",
       "      <td>0.0</td>\n",
       "      <td>-1.800263</td>\n",
       "      <td>0.579072</td>\n",
       "    </tr>\n",
       "    <tr>\n",
       "      <th>1</th>\n",
       "      <td>1.0</td>\n",
       "      <td>0.0</td>\n",
       "      <td>1.0</td>\n",
       "      <td>0.0</td>\n",
       "      <td>0.626668</td>\n",
       "      <td>0.736929</td>\n",
       "    </tr>\n",
       "    <tr>\n",
       "      <th>2</th>\n",
       "      <td>1.0</td>\n",
       "      <td>0.0</td>\n",
       "      <td>0.0</td>\n",
       "      <td>0.0</td>\n",
       "      <td>1.840134</td>\n",
       "      <td>1.605143</td>\n",
       "    </tr>\n",
       "    <tr>\n",
       "      <th>3</th>\n",
       "      <td>1.0</td>\n",
       "      <td>0.0</td>\n",
       "      <td>0.0</td>\n",
       "      <td>1.0</td>\n",
       "      <td>0.453316</td>\n",
       "      <td>-0.525927</td>\n",
       "    </tr>\n",
       "    <tr>\n",
       "      <th>4</th>\n",
       "      <td>1.0</td>\n",
       "      <td>0.0</td>\n",
       "      <td>0.0</td>\n",
       "      <td>1.0</td>\n",
       "      <td>-0.586797</td>\n",
       "      <td>-1.209974</td>\n",
       "    </tr>\n",
       "  </tbody>\n",
       "</table>\n",
       "</div>"
      ],
      "text/plain": [
       "   Intercept  C(rank)[T.2]  C(rank)[T.3]  C(rank)[T.4]       gre       gpa\n",
       "0        1.0           0.0           1.0           0.0 -1.800263  0.579072\n",
       "1        1.0           0.0           1.0           0.0  0.626668  0.736929\n",
       "2        1.0           0.0           0.0           0.0  1.840134  1.605143\n",
       "3        1.0           0.0           0.0           1.0  0.453316 -0.525927\n",
       "4        1.0           0.0           0.0           1.0 -0.586797 -1.209974"
      ]
     },
     "execution_count": 25,
     "metadata": {},
     "output_type": "execute_result"
    }
   ],
   "source": [
    "X_norm.head()"
   ]
  },
  {
   "cell_type": "code",
   "execution_count": 26,
   "metadata": {},
   "outputs": [
    {
     "name": "stdout",
     "output_type": "stream",
     "text": [
      "Optimization terminated successfully.\n",
      "         Current function value: 0.573147\n",
      "         Iterations 6\n",
      "                         Results: Logit\n",
      "=================================================================\n",
      "Model:              Logit            Method:           MLE       \n",
      "Dependent Variable: admit            Pseudo R-squared: 0.083     \n",
      "Date:               2024-07-07 18:04 AIC:              470.5175  \n",
      "No. Observations:   400              BIC:              494.4663  \n",
      "Df Model:           5                Log-Likelihood:   -229.26   \n",
      "Df Residuals:       394              LL-Null:          -249.99   \n",
      "Converged:          1.0000           LLR p-value:      7.5782e-08\n",
      "No. Iterations:     6.0000           Scale:            1.0000    \n",
      "------------------------------------------------------------------\n",
      "               Coef.   Std.Err.     z     P>|z|    [0.025   0.975]\n",
      "------------------------------------------------------------------\n",
      "Intercept      0.0664    0.2656   0.2502  0.8025  -0.4540   0.5869\n",
      "C(rank)[T.2]  -0.6754    0.3165  -2.1342  0.0328  -1.2958  -0.0551\n",
      "C(rank)[T.3]  -1.3402    0.3453  -3.8812  0.0001  -2.0170  -0.6634\n",
      "C(rank)[T.4]  -1.5515    0.4178  -3.7131  0.0002  -2.3704  -0.7325\n",
      "gre            0.2613    0.1262   2.0699  0.0385   0.0139   0.5086\n",
      "gpa            0.3056    0.1261   2.4231  0.0154   0.0584   0.5528\n",
      "=================================================================\n",
      "\n"
     ]
    }
   ],
   "source": [
    "logit = sm.Logit(y, X_norm)\n",
    "result_norm = logit.fit()\n",
    "print(result_norm.summary2())"
   ]
  },
  {
   "cell_type": "markdown",
   "metadata": {},
   "source": [
    "Note that the p-values of the predictor variables did not change, as it should be. \n",
    "However, now we  cannot reject the null hypothesis that the intercept parameter is zero, zero is also in the confidence interval of the intercept estimate."
   ]
  },
  {
   "cell_type": "code",
   "execution_count": null,
   "metadata": {},
   "outputs": [],
   "source": []
  }
 ],
 "metadata": {
  "kernelspec": {
   "display_name": "Python 3 (ipykernel)",
   "language": "python",
   "name": "python3"
  },
  "language_info": {
   "codemirror_mode": {
    "name": "ipython",
    "version": 3
   },
   "file_extension": ".py",
   "mimetype": "text/x-python",
   "name": "python",
   "nbconvert_exporter": "python",
   "pygments_lexer": "ipython3",
   "version": "3.12.4"
  }
 },
 "nbformat": 4,
 "nbformat_minor": 4
}
